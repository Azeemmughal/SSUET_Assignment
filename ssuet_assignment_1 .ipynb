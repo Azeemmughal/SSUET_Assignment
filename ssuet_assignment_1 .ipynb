{
 "cells": [
  {
   "cell_type": "markdown",
   "metadata": {},
   "source": [
    "# SSUET Assignment 1\n",
    "---"
   ]
  },
  {
   "cell_type": "code",
   "execution_count": 1,
   "metadata": {},
   "outputs": [
    {
     "name": "stdout",
     "output_type": "stream",
     "text": [
      "     \"Bio-Data\"    \n",
      "\n",
      " Name : Azeem Mughal  \n",
      " Father Name : Nisar Ahmed Mughal  \n",
      " Qualification : B.A from Karachi university  \n",
      " Extra Skills : Basic Web designing , Ms-Office  \n",
      " Studing : SSUET (Artificail Intelligence)  \n",
      " Religion : Islam  \n"
     ]
    }
   ],
   "source": [
    "name = \" Name : Azeem Mughal \"\n",
    "father_name = \" Father Name : Nisar Ahmed Mughal \"\n",
    "qualification = \" Qualification : B.A from Karachi university \"\n",
    "extra_skills = \" Extra Skills : Basic Web designing , Ms-Office \"\n",
    "studing = \" Studing : SSUET (Artificail Intelligence) \"\n",
    "religion = \" Religion : Islam \"\n",
    "print (f'     \"Bio-Data\"    ')\n",
    "print ( \"\" )\n",
    "print (f\"{name} \\n{father_name} \\n{qualification} \\n{extra_skills} \\n{studing} \\n{religion} \")"
   ]
  }
 ],
 "metadata": {
  "kernelspec": {
   "display_name": "Python 3",
   "language": "python",
   "name": "python3"
  },
  "language_info": {
   "codemirror_mode": {
    "name": "ipython",
    "version": 3
   },
   "file_extension": ".py",
   "mimetype": "text/x-python",
   "name": "python",
   "nbconvert_exporter": "python",
   "pygments_lexer": "ipython3",
   "version": "3.7.4"
  }
 },
 "nbformat": 4,
 "nbformat_minor": 2
}
